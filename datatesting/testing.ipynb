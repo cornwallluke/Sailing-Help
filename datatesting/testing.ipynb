{
 "metadata": {
  "language_info": {
   "codemirror_mode": {
    "name": "ipython",
    "version": 3
   },
   "file_extension": ".py",
   "mimetype": "text/x-python",
   "name": "python",
   "nbconvert_exporter": "python",
   "pygments_lexer": "ipython3",
   "version": "3.8.2-final"
  },
  "orig_nbformat": 2,
  "kernelspec": {
   "name": "Python 3.8.2 64-bit",
   "display_name": "Python 3.8.2 64-bit",
   "metadata": {
    "interpreter": {
     "hash": "31f2aee4e71d21fbe5cf8b01ff0e069b9275f58929596ceb00d14d90e3e16cd6"
    }
   }
  }
 },
 "nbformat": 4,
 "nbformat_minor": 2,
 "cells": [
  {
   "cell_type": "code",
   "execution_count": 10,
   "metadata": {},
   "outputs": [],
   "source": [
    "import json\n",
    "import matplotlib.pyplot as plt\n",
    "import math\n",
    "from scipy import stats"
   ]
  },
  {
   "cell_type": "code",
   "execution_count": 11,
   "metadata": {},
   "outputs": [],
   "source": [
    "with open(\"out/first.json\") as f:\n",
    "    data = json.loads(f.read())"
   ]
  },
  {
   "cell_type": "code",
   "execution_count": 12,
   "metadata": {},
   "outputs": [],
   "source": [
    "def latlongdist(lat1, lon1, lat2, lon2) :\n",
    "  dy = (lat2-lat1)*math.pi/180*6.371e6;\n",
    "  dx = (lon2-lon1)*math.pi/180*math.sin((90-lat1)*math.pi/180)*6.371e6;\n",
    "  return dx, dy;\n",
    "\n",
    "def distlatlong(lat1, lon1, dy, dx):#fix deg-rad you idiot\n",
    "  lat2 = lat1+dy/6.371e6;\n",
    "  lon2 = lon1+dx/(math.sin((90-lat1)*math.pi/180)*6.371e6);\n",
    "  return lat2, lon2;\n"
   ]
  },
  {
   "cell_type": "code",
   "execution_count": 13,
   "metadata": {},
   "outputs": [],
   "source": [
    "filtered = list(filter(lambda x:x[\"frame_type\"]==\"data_message\" and x[\"name\"]==\"record\" and x[\"fields\"][1][\"value\"] is not None, data))"
   ]
  },
  {
   "cell_type": "code",
   "execution_count": 14,
   "metadata": {},
   "outputs": [],
   "source": [
    "origin = (filtered[0][\"fields\"][1][\"value\"], filtered[0][\"fields\"][2][\"value\"])"
   ]
  },
  {
   "cell_type": "code",
   "execution_count": 15,
   "metadata": {},
   "outputs": [],
   "source": [
    "mine = [{\"lat\":i[\"fields\"][1][\"value\"], \n",
    "        \"long\":i[\"fields\"][2][\"value\"], \n",
    "        \"time\":i[\"fields\"][0][\"raw_value\"]+631065600, \n",
    "        \"dx\":latlongdist(origin[0], origin[1], i[\"fields\"][1][\"value\"], i[\"fields\"][2][\"value\"])[0],\n",
    "        \"dy\":latlongdist(origin[0], origin[1], i[\"fields\"][1][\"value\"], i[\"fields\"][2][\"value\"])[1],\n",
    "        \"acc\":0,\n",
    "        } for i in filtered]"
   ]
  },
  {
   "cell_type": "code",
   "execution_count": 11,
   "metadata": {},
   "outputs": [
    {
     "output_type": "execute_result",
     "data": {
      "text/plain": [
       "{'lat': 55.65834282897413,\n",
       " 'long': 12.077784016728401,\n",
       " 'time': 1597568966,\n",
       " 'dx': 150.09099074571802,\n",
       " 'dy': -252.476281587687,\n",
       " 'acc': 0}"
      ]
     },
     "metadata": {},
     "execution_count": 11
    }
   ],
   "source": []
  },
  {
   "cell_type": "code",
   "execution_count": 29,
   "metadata": {},
   "outputs": [
    {
     "output_type": "display_data",
     "data": {
      "text/plain": "<Figure size 432x288 with 1 Axes>",
      "image/svg+xml": "<?xml version=\"1.0\" encoding=\"utf-8\" standalone=\"no\"?>\n<!DOCTYPE svg PUBLIC \"-//W3C//DTD SVG 1.1//EN\"\n  \"http://www.w3.org/Graphics/SVG/1.1/DTD/svg11.dtd\">\n<!-- Created with matplotlib (https://matplotlib.org/) -->\n<svg height=\"248.518125pt\" version=\"1.1\" viewBox=\"0 0 387.038988 248.518125\" width=\"387.038988pt\" xmlns=\"http://www.w3.org/2000/svg\" xmlns:xlink=\"http://www.w3.org/1999/xlink\">\n <metadata>\n  <rdf:RDF xmlns:cc=\"http://creativecommons.org/ns#\" xmlns:dc=\"http://purl.org/dc/elements/1.1/\" xmlns:rdf=\"http://www.w3.org/1999/02/22-rdf-syntax-ns#\">\n   <cc:Work>\n    <dc:type rdf:resource=\"http://purl.org/dc/dcmitype/StillImage\"/>\n    <dc:date>2020-10-09T17:15:00.277045</dc:date>\n    <dc:format>image/svg+xml</dc:format>\n    <dc:creator>\n     <cc:Agent>\n      <dc:title>Matplotlib v3.3.2, https://matplotlib.org/</dc:title>\n     </cc:Agent>\n    </dc:creator>\n   </cc:Work>\n  </rdf:RDF>\n </metadata>\n <defs>\n  <style type=\"text/css\">*{stroke-linecap:butt;stroke-linejoin:round;}</style>\n </defs>\n <g id=\"figure_1\">\n  <g id=\"patch_1\">\n   <path d=\"M 0 248.518125 \nL 387.038988 248.518125 \nL 387.038988 0 \nL 0 0 \nz\n\" style=\"fill:none;\"/>\n  </g>\n  <g id=\"axes_1\">\n   <g id=\"patch_2\">\n    <path d=\"M 41.667188 224.64 \nL 376.467188 224.64 \nL 376.467188 7.2 \nL 41.667188 7.2 \nz\n\" style=\"fill:#ffffff;\"/>\n   </g>\n   <g id=\"PathCollection_1\">\n    <defs>\n     <path d=\"M 0 3 \nC 0.795609 3 1.55874 2.683901 2.12132 2.12132 \nC 2.683901 1.55874 3 0.795609 3 0 \nC 3 -0.795609 2.683901 -1.55874 2.12132 -2.12132 \nC 1.55874 -2.683901 0.795609 -3 0 -3 \nC -0.795609 -3 -1.55874 -2.683901 -2.12132 -2.12132 \nC -2.683901 -1.55874 -3 -0.795609 -3 0 \nC -3 0.795609 -2.683901 1.55874 -2.12132 2.12132 \nC -1.55874 2.683901 -0.795609 3 0 3 \nz\n\" id=\"mfbf76be621\" style=\"stroke:#1f77b4;\"/>\n    </defs>\n    <g clip-path=\"url(#p61a9f77207)\">\n     <use style=\"fill:#1f77b4;stroke:#1f77b4;\" x=\"197.481382\" xlink:href=\"#mfbf76be621\" y=\"17.083636\"/>\n     <use style=\"fill:#1f77b4;stroke:#1f77b4;\" x=\"184.685887\" xlink:href=\"#mfbf76be621\" y=\"32.775407\"/>\n     <use style=\"fill:#1f77b4;stroke:#1f77b4;\" x=\"183.07542\" xlink:href=\"#mfbf76be621\" y=\"34.376437\"/>\n     <use style=\"fill:#1f77b4;stroke:#1f77b4;\" x=\"178.457276\" xlink:href=\"#mfbf76be621\" y=\"39.254969\"/>\n     <use style=\"fill:#1f77b4;stroke:#1f77b4;\" x=\"165.514706\" xlink:href=\"#mfbf76be621\" y=\"53.437916\"/>\n     <use style=\"fill:#1f77b4;stroke:#1f77b4;\" x=\"160.470046\" xlink:href=\"#mfbf76be621\" y=\"62.214243\"/>\n     <use style=\"fill:#1f77b4;stroke:#1f77b4;\" x=\"155.888671\" xlink:href=\"#mfbf76be621\" y=\"68.727334\"/>\n     <use style=\"fill:#1f77b4;stroke:#1f77b4;\" x=\"152.778042\" xlink:href=\"#mfbf76be621\" y=\"72.398806\"/>\n     <use style=\"fill:#1f77b4;stroke:#1f77b4;\" x=\"140.239928\" xlink:href=\"#mfbf76be621\" y=\"87.411606\"/>\n     <use style=\"fill:#1f77b4;stroke:#1f77b4;\" x=\"124.569124\" xlink:href=\"#mfbf76be621\" y=\"102.709406\"/>\n     <use style=\"fill:#1f77b4;stroke:#1f77b4;\" x=\"115.91378\" xlink:href=\"#mfbf76be621\" y=\"113.698676\"/>\n     <use style=\"fill:#1f77b4;stroke:#1f77b4;\" x=\"110.86912\" xlink:href=\"#mfbf76be621\" y=\"120.278825\"/>\n     <use style=\"fill:#1f77b4;stroke:#1f77b4;\" x=\"106.596601\" xlink:href=\"#mfbf76be621\" y=\"126.649416\"/>\n     <use style=\"fill:#1f77b4;stroke:#1f77b4;\" x=\"98.750169\" xlink:href=\"#mfbf76be621\" y=\"141.519716\"/>\n     <use style=\"fill:#1f77b4;stroke:#1f77b4;\" x=\"87.329822\" xlink:href=\"#mfbf76be621\" y=\"157.61384\"/>\n     <use style=\"fill:#1f77b4;stroke:#1f77b4;\" x=\"84.888383\" xlink:href=\"#mfbf76be621\" y=\"159.114282\"/>\n     <use style=\"fill:#1f77b4;stroke:#1f77b4;\" x=\"74.416668\" xlink:href=\"#mfbf76be621\" y=\"171.352522\"/>\n     <use style=\"fill:#1f77b4;stroke:#1f77b4;\" x=\"60.856385\" xlink:href=\"#mfbf76be621\" y=\"192.719149\"/>\n     <use style=\"fill:#1f77b4;stroke:#1f77b4;\" x=\"59.848924\" xlink:href=\"#mfbf76be621\" y=\"194.839885\"/>\n     <use style=\"fill:#1f77b4;stroke:#1f77b4;\" x=\"56.885369\" xlink:href=\"#mfbf76be621\" y=\"204.337095\"/>\n     <use style=\"fill:#1f77b4;stroke:#1f77b4;\" x=\"60.282794\" xlink:href=\"#mfbf76be621\" y=\"205.342977\"/>\n     <use style=\"fill:#1f77b4;stroke:#1f77b4;\" x=\"62.393315\" xlink:href=\"#mfbf76be621\" y=\"205.63636\"/>\n     <use style=\"fill:#1f77b4;stroke:#1f77b4;\" x=\"69.408776\" xlink:href=\"#mfbf76be621\" y=\"206.944008\"/>\n     <use style=\"fill:#1f77b4;stroke:#1f77b4;\" x=\"71.739909\" xlink:href=\"#mfbf76be621\" y=\"206.885331\"/>\n     <use style=\"fill:#1f77b4;stroke:#1f77b4;\" x=\"89.322684\" xlink:href=\"#mfbf76be621\" y=\"206.089007\"/>\n     <use style=\"fill:#1f77b4;stroke:#1f77b4;\" x=\"105.736215\" xlink:href=\"#mfbf76be621\" y=\"204.982536\"/>\n     <use style=\"fill:#1f77b4;stroke:#1f77b4;\" x=\"128.003317\" xlink:href=\"#mfbf76be621\" y=\"205.024448\"/>\n     <use style=\"fill:#1f77b4;stroke:#1f77b4;\" x=\"146.931824\" xlink:href=\"#mfbf76be621\" y=\"206.499743\"/>\n     <use style=\"fill:#1f77b4;stroke:#1f77b4;\" x=\"185.759532\" xlink:href=\"#mfbf76be621\" y=\"208.276802\"/>\n     <use style=\"fill:#1f77b4;stroke:#1f77b4;\" x=\"192.186694\" xlink:href=\"#mfbf76be621\" y=\"208.654008\"/>\n     <use style=\"fill:#1f77b4;stroke:#1f77b4;\" x=\"198.341769\" xlink:href=\"#mfbf76be621\" y=\"209.131803\"/>\n     <use style=\"fill:#1f77b4;stroke:#1f77b4;\" x=\"214.931789\" xlink:href=\"#mfbf76be621\" y=\"210.330479\"/>\n     <use style=\"fill:#1f77b4;stroke:#1f77b4;\" x=\"228.1538\" xlink:href=\"#mfbf76be621\" y=\"211.15195\"/>\n     <use style=\"fill:#1f77b4;stroke:#1f77b4;\" x=\"253.94334\" xlink:href=\"#mfbf76be621\" y=\"212.032098\"/>\n     <use style=\"fill:#1f77b4;stroke:#1f77b4;\" x=\"277.570883\" xlink:href=\"#mfbf76be621\" y=\"213.146951\"/>\n     <use style=\"fill:#1f77b4;stroke:#1f77b4;\" x=\"283.828909\" xlink:href=\"#mfbf76be621\" y=\"213.247539\"/>\n     <use style=\"fill:#1f77b4;stroke:#1f77b4;\" x=\"311.493651\" xlink:href=\"#mfbf76be621\" y=\"213.716951\"/>\n     <use style=\"fill:#1f77b4;stroke:#1f77b4;\" x=\"323.950874\" xlink:href=\"#mfbf76be621\" y=\"214.177981\"/>\n     <use style=\"fill:#1f77b4;stroke:#1f77b4;\" x=\"337.731769\" xlink:href=\"#mfbf76be621\" y=\"214.756364\"/>\n     <use style=\"fill:#1f77b4;stroke:#1f77b4;\" x=\"361.249006\" xlink:href=\"#mfbf76be621\" y=\"214.219893\"/>\n    </g>\n   </g>\n   <g id=\"matplotlib.axis_1\">\n    <g id=\"xtick_1\">\n     <g id=\"line2d_1\">\n      <defs>\n       <path d=\"M 0 0 \nL 0 3.5 \n\" id=\"ma30738f77c\" style=\"stroke:#000000;stroke-width:0.8;\"/>\n      </defs>\n      <g>\n       <use style=\"stroke:#000000;stroke-width:0.8;\" x=\"90.552456\" xlink:href=\"#ma30738f77c\" y=\"224.64\"/>\n      </g>\n     </g>\n     <g id=\"text_1\">\n      <!-- 50 -->\n      <g transform=\"translate(84.189956 239.238438)scale(0.1 -0.1)\">\n       <defs>\n        <path d=\"M 10.796875 72.90625 \nL 49.515625 72.90625 \nL 49.515625 64.59375 \nL 19.828125 64.59375 \nL 19.828125 46.734375 \nQ 21.96875 47.46875 24.109375 47.828125 \nQ 26.265625 48.1875 28.421875 48.1875 \nQ 40.625 48.1875 47.75 41.5 \nQ 54.890625 34.8125 54.890625 23.390625 \nQ 54.890625 11.625 47.5625 5.09375 \nQ 40.234375 -1.421875 26.90625 -1.421875 \nQ 22.3125 -1.421875 17.546875 -0.640625 \nQ 12.796875 0.140625 7.71875 1.703125 \nL 7.71875 11.625 \nQ 12.109375 9.234375 16.796875 8.0625 \nQ 21.484375 6.890625 26.703125 6.890625 \nQ 35.15625 6.890625 40.078125 11.328125 \nQ 45.015625 15.765625 45.015625 23.390625 \nQ 45.015625 31 40.078125 35.4375 \nQ 35.15625 39.890625 26.703125 39.890625 \nQ 22.75 39.890625 18.8125 39.015625 \nQ 14.890625 38.140625 10.796875 36.28125 \nz\n\" id=\"DejaVuSans-53\"/>\n        <path d=\"M 31.78125 66.40625 \nQ 24.171875 66.40625 20.328125 58.90625 \nQ 16.5 51.421875 16.5 36.375 \nQ 16.5 21.390625 20.328125 13.890625 \nQ 24.171875 6.390625 31.78125 6.390625 \nQ 39.453125 6.390625 43.28125 13.890625 \nQ 47.125 21.390625 47.125 36.375 \nQ 47.125 51.421875 43.28125 58.90625 \nQ 39.453125 66.40625 31.78125 66.40625 \nz\nM 31.78125 74.21875 \nQ 44.046875 74.21875 50.515625 64.515625 \nQ 56.984375 54.828125 56.984375 36.375 \nQ 56.984375 17.96875 50.515625 8.265625 \nQ 44.046875 -1.421875 31.78125 -1.421875 \nQ 19.53125 -1.421875 13.0625 8.265625 \nQ 6.59375 17.96875 6.59375 36.375 \nQ 6.59375 54.828125 13.0625 64.515625 \nQ 19.53125 74.21875 31.78125 74.21875 \nz\n\" id=\"DejaVuSans-48\"/>\n       </defs>\n       <use xlink:href=\"#DejaVuSans-53\"/>\n       <use x=\"63.623047\" xlink:href=\"#DejaVuSans-48\"/>\n      </g>\n     </g>\n    </g>\n    <g id=\"xtick_2\">\n     <g id=\"line2d_2\">\n      <g>\n       <use style=\"stroke:#000000;stroke-width:0.8;\" x=\"160.488152\" xlink:href=\"#ma30738f77c\" y=\"224.64\"/>\n      </g>\n     </g>\n     <g id=\"text_2\">\n      <!-- 100 -->\n      <g transform=\"translate(150.944402 239.238438)scale(0.1 -0.1)\">\n       <defs>\n        <path d=\"M 12.40625 8.296875 \nL 28.515625 8.296875 \nL 28.515625 63.921875 \nL 10.984375 60.40625 \nL 10.984375 69.390625 \nL 28.421875 72.90625 \nL 38.28125 72.90625 \nL 38.28125 8.296875 \nL 54.390625 8.296875 \nL 54.390625 0 \nL 12.40625 0 \nz\n\" id=\"DejaVuSans-49\"/>\n       </defs>\n       <use xlink:href=\"#DejaVuSans-49\"/>\n       <use x=\"63.623047\" xlink:href=\"#DejaVuSans-48\"/>\n       <use x=\"127.246094\" xlink:href=\"#DejaVuSans-48\"/>\n      </g>\n     </g>\n    </g>\n    <g id=\"xtick_3\">\n     <g id=\"line2d_3\">\n      <g>\n       <use style=\"stroke:#000000;stroke-width:0.8;\" x=\"230.423847\" xlink:href=\"#ma30738f77c\" y=\"224.64\"/>\n      </g>\n     </g>\n     <g id=\"text_3\">\n      <!-- 150 -->\n      <g transform=\"translate(220.880097 239.238438)scale(0.1 -0.1)\">\n       <use xlink:href=\"#DejaVuSans-49\"/>\n       <use x=\"63.623047\" xlink:href=\"#DejaVuSans-53\"/>\n       <use x=\"127.246094\" xlink:href=\"#DejaVuSans-48\"/>\n      </g>\n     </g>\n    </g>\n    <g id=\"xtick_4\">\n     <g id=\"line2d_4\">\n      <g>\n       <use style=\"stroke:#000000;stroke-width:0.8;\" x=\"300.359543\" xlink:href=\"#ma30738f77c\" y=\"224.64\"/>\n      </g>\n     </g>\n     <g id=\"text_4\">\n      <!-- 200 -->\n      <g transform=\"translate(290.815793 239.238438)scale(0.1 -0.1)\">\n       <defs>\n        <path d=\"M 19.1875 8.296875 \nL 53.609375 8.296875 \nL 53.609375 0 \nL 7.328125 0 \nL 7.328125 8.296875 \nQ 12.9375 14.109375 22.625 23.890625 \nQ 32.328125 33.6875 34.8125 36.53125 \nQ 39.546875 41.84375 41.421875 45.53125 \nQ 43.3125 49.21875 43.3125 52.78125 \nQ 43.3125 58.59375 39.234375 62.25 \nQ 35.15625 65.921875 28.609375 65.921875 \nQ 23.96875 65.921875 18.8125 64.3125 \nQ 13.671875 62.703125 7.8125 59.421875 \nL 7.8125 69.390625 \nQ 13.765625 71.78125 18.9375 73 \nQ 24.125 74.21875 28.421875 74.21875 \nQ 39.75 74.21875 46.484375 68.546875 \nQ 53.21875 62.890625 53.21875 53.421875 \nQ 53.21875 48.921875 51.53125 44.890625 \nQ 49.859375 40.875 45.40625 35.40625 \nQ 44.1875 33.984375 37.640625 27.21875 \nQ 31.109375 20.453125 19.1875 8.296875 \nz\n\" id=\"DejaVuSans-50\"/>\n       </defs>\n       <use xlink:href=\"#DejaVuSans-50\"/>\n       <use x=\"63.623047\" xlink:href=\"#DejaVuSans-48\"/>\n       <use x=\"127.246094\" xlink:href=\"#DejaVuSans-48\"/>\n      </g>\n     </g>\n    </g>\n    <g id=\"xtick_5\">\n     <g id=\"line2d_5\">\n      <g>\n       <use style=\"stroke:#000000;stroke-width:0.8;\" x=\"370.295238\" xlink:href=\"#ma30738f77c\" y=\"224.64\"/>\n      </g>\n     </g>\n     <g id=\"text_5\">\n      <!-- 250 -->\n      <g transform=\"translate(360.751488 239.238438)scale(0.1 -0.1)\">\n       <use xlink:href=\"#DejaVuSans-50\"/>\n       <use x=\"63.623047\" xlink:href=\"#DejaVuSans-53\"/>\n       <use x=\"127.246094\" xlink:href=\"#DejaVuSans-48\"/>\n      </g>\n     </g>\n    </g>\n   </g>\n   <g id=\"matplotlib.axis_2\">\n    <g id=\"ytick_1\">\n     <g id=\"line2d_6\">\n      <defs>\n       <path d=\"M 0 0 \nL -3.5 0 \n\" id=\"m0d5737e94f\" style=\"stroke:#000000;stroke-width:0.8;\"/>\n      </defs>\n      <g>\n       <use style=\"stroke:#000000;stroke-width:0.8;\" x=\"41.667188\" xlink:href=\"#m0d5737e94f\" y=\"194.364704\"/>\n      </g>\n     </g>\n     <g id=\"text_6\">\n      <!-- −250 -->\n      <g transform=\"translate(7.2 198.163922)scale(0.1 -0.1)\">\n       <defs>\n        <path d=\"M 10.59375 35.5 \nL 73.1875 35.5 \nL 73.1875 27.203125 \nL 10.59375 27.203125 \nz\n\" id=\"DejaVuSans-8722\"/>\n       </defs>\n       <use xlink:href=\"#DejaVuSans-8722\"/>\n       <use x=\"83.789062\" xlink:href=\"#DejaVuSans-50\"/>\n       <use x=\"147.412109\" xlink:href=\"#DejaVuSans-53\"/>\n       <use x=\"211.035156\" xlink:href=\"#DejaVuSans-48\"/>\n      </g>\n     </g>\n    </g>\n    <g id=\"ytick_2\">\n     <g id=\"line2d_7\">\n      <g>\n       <use style=\"stroke:#000000;stroke-width:0.8;\" x=\"41.667188\" xlink:href=\"#m0d5737e94f\" y=\"149.396192\"/>\n      </g>\n     </g>\n     <g id=\"text_7\">\n      <!-- −200 -->\n      <g transform=\"translate(7.2 153.195411)scale(0.1 -0.1)\">\n       <use xlink:href=\"#DejaVuSans-8722\"/>\n       <use x=\"83.789062\" xlink:href=\"#DejaVuSans-50\"/>\n       <use x=\"147.412109\" xlink:href=\"#DejaVuSans-48\"/>\n       <use x=\"211.035156\" xlink:href=\"#DejaVuSans-48\"/>\n      </g>\n     </g>\n    </g>\n    <g id=\"ytick_3\">\n     <g id=\"line2d_8\">\n      <g>\n       <use style=\"stroke:#000000;stroke-width:0.8;\" x=\"41.667188\" xlink:href=\"#m0d5737e94f\" y=\"104.427681\"/>\n      </g>\n     </g>\n     <g id=\"text_8\">\n      <!-- −150 -->\n      <g transform=\"translate(7.2 108.226899)scale(0.1 -0.1)\">\n       <use xlink:href=\"#DejaVuSans-8722\"/>\n       <use x=\"83.789062\" xlink:href=\"#DejaVuSans-49\"/>\n       <use x=\"147.412109\" xlink:href=\"#DejaVuSans-53\"/>\n       <use x=\"211.035156\" xlink:href=\"#DejaVuSans-48\"/>\n      </g>\n     </g>\n    </g>\n    <g id=\"ytick_4\">\n     <g id=\"line2d_9\">\n      <g>\n       <use style=\"stroke:#000000;stroke-width:0.8;\" x=\"41.667188\" xlink:href=\"#m0d5737e94f\" y=\"59.459169\"/>\n      </g>\n     </g>\n     <g id=\"text_9\">\n      <!-- −100 -->\n      <g transform=\"translate(7.2 63.258388)scale(0.1 -0.1)\">\n       <use xlink:href=\"#DejaVuSans-8722\"/>\n       <use x=\"83.789062\" xlink:href=\"#DejaVuSans-49\"/>\n       <use x=\"147.412109\" xlink:href=\"#DejaVuSans-48\"/>\n       <use x=\"211.035156\" xlink:href=\"#DejaVuSans-48\"/>\n      </g>\n     </g>\n    </g>\n    <g id=\"ytick_5\">\n     <g id=\"line2d_10\">\n      <g>\n       <use style=\"stroke:#000000;stroke-width:0.8;\" x=\"41.667188\" xlink:href=\"#m0d5737e94f\" y=\"14.490658\"/>\n      </g>\n     </g>\n     <g id=\"text_10\">\n      <!-- −50 -->\n      <g transform=\"translate(13.5625 18.289877)scale(0.1 -0.1)\">\n       <use xlink:href=\"#DejaVuSans-8722\"/>\n       <use x=\"83.789062\" xlink:href=\"#DejaVuSans-53\"/>\n       <use x=\"147.412109\" xlink:href=\"#DejaVuSans-48\"/>\n      </g>\n     </g>\n    </g>\n   </g>\n   <g id=\"patch_3\">\n    <path d=\"M 41.667188 224.64 \nL 41.667188 7.2 \n\" style=\"fill:none;stroke:#000000;stroke-linecap:square;stroke-linejoin:miter;stroke-width:0.8;\"/>\n   </g>\n   <g id=\"patch_4\">\n    <path d=\"M 376.467188 224.64 \nL 376.467188 7.2 \n\" style=\"fill:none;stroke:#000000;stroke-linecap:square;stroke-linejoin:miter;stroke-width:0.8;\"/>\n   </g>\n   <g id=\"patch_5\">\n    <path d=\"M 41.667188 224.64 \nL 376.467188 224.64 \n\" style=\"fill:none;stroke:#000000;stroke-linecap:square;stroke-linejoin:miter;stroke-width:0.8;\"/>\n   </g>\n   <g id=\"patch_6\">\n    <path d=\"M 41.667188 7.2 \nL 376.467188 7.2 \n\" style=\"fill:none;stroke:#000000;stroke-linecap:square;stroke-linejoin:miter;stroke-width:0.8;\"/>\n   </g>\n  </g>\n </g>\n <defs>\n  <clipPath id=\"p61a9f77207\">\n   <rect height=\"217.44\" width=\"334.8\" x=\"41.667188\" y=\"7.2\"/>\n  </clipPath>\n </defs>\n</svg>\n",
      "image/png": "[encoded data removed]"
     },
     "metadata": {
      "needs_background": "light"
     }
    }
   ],
   "source": [
    "fig = plt.figure()\n",
    "plt.ion()\n",
    "\n",
    "ax = fig.add_subplot(111)\n",
    "\n",
    "minecrop = mine[380:420]\n",
    "ax.scatter([i[\"dx\"] for i in minecrop], [i[\"dy\"] for i in minecrop])\n",
    "# ax.scatter(posnon[:,0], posnon[:,1])\n",
    "plt.show()"
   ]
  },
  {
   "cell_type": "code",
   "execution_count": 30,
   "metadata": {},
   "outputs": [
    {
     "output_type": "execute_result",
     "data": {
      "text/plain": [
       "565"
      ]
     },
     "metadata": {},
     "execution_count": 30
    }
   ],
   "source": [
    "def edgelinker(listy):\n",
    "    if len(listy)<3:\n",
    "        return listy:\n",
    "    start, end = listy[0], listy[-1]\n",
    "    #find a point that does not lie on the line between the points start and end\n",
    "    #we probably want to start halfway between and work out to get higher quality ones\n",
    "    #how do you know if a point is on that line? idk chief\n",
    "\n",
    "    if we find a point:\n",
    "        before = listy[:point]\n",
    "        after = listy[point:]\n",
    "        return edgelinker(before) + edgelinker(after)\n",
    "    else:\n",
    "        return listy"
   ]
  }
 ]
}